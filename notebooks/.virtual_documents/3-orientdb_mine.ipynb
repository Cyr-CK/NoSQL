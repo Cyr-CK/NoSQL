











import pyorient


ROOT_PASSWORD = "root"
client = pyorient.OrientDB("orientdb", 2424)
session_id = client.connect("root", ROOT_PASSWORD)


print(client.db_list())











gods = client.db_create("gods", pyorient.DB_TYPE_GRAPH, pyorient.STORAGE_TYPE_MEMORY)





client.db_open("gods","root", ROOT_PASSWORD)





client.command("create vertex content {name: 'Zeus', symbol: 'thunder'}")





for elem in client.command("SELECT * FROM V"):
    print(elem)





client.command("create vertex content {name: 'Héra', symbol: 'tiara'}")
client.command("create vertex content {name: 'Poséidon', symbol: 'trident'}")
client.command("create vertex content {name: 'Athéna', symbol: 'helmet'}")
client.command("create vertex content {name: 'Arès', symbol: 'weapons'}")





for elem in client.command("SELECT * FROM V where name='Arès'"):
    print(elem)





client.command("CREATE edge FROM (SELECT FROM V where name='Zeus') TO (SELECT FROM V where name='Poséidon') CONTENT {'kind':'sibling'}")





for elem in client.command("SELECT * FROM V"):
    print(elem)





for elem in client.command("SELECT * FROM E"): # expand(out)
    print(elem.oRecordData)





froms = ["Zeus", "Zeus", "Zeus", "Héra", "Héra", "Poséidon"]
tos = ["Héra", "Arès", "Athéna", "Arès", "Zeus", "Zeus"]
kinds = ["sibling", "father", "father", "mother", "sibling", "sibling"]
for fromg, tog, kindg in zip(froms, tos, kinds):
    client.command(f"CREATE edge FROM (SELECT FROM V where name='{fromg}') TO (SELECT FROM V where name='{tog}') CONTENT {{'kind':'{kindg}'}}")








for elem in client.command("SELECT expand(out()) FROM V where name='Zeus'"):
    print(elem)





for elem in client.command("SELECT expand(in) FROM E where kind='father'"):
    print(elem)





for elem in client.command("SELECT * FROM V WHERE name in (SELECT name from (SELECT expand(out) FROM E WHERE kind='mother'))"):
    print(elem)





for elem in client.command("SELECT * FROM (SELECT * FROM V WHERE name in (SELECT name from (SELECT expand(out) FROM E WHERE kind='sibling'))) WHERE name NOT IN 'Zeus'"):
    print(elem)











client.db_create("eCommerce", pyorient.DB_TYPE_GRAPH, pyorient.STORAGE_TYPE_MEMORY)
client.db_open("eCommerce","root", ROOT_PASSWORD)


# Vertices
client.command("CREATE CLASS Product EXTENDS V")
client.command("CREATE PROPERTY Product.name STRING")
client.command("CREATE INDEX Product.name ON Product (name) UNIQUE")
client.command("CREATE CLASS Person EXTENDS V")
client.command("CREATE PROPERTY Person.nickname STRING")
client.command("CREATE INDEX Person.nickname ON Person (nickname) UNIQUE")

# Edges
client.command("CREATE CLASS Purchased EXTENDS E")
client.command("CREATE PROPERTY Purchased.date STRING")


for name in client.command("SELECT name FROM (SELECT expand(classes) FROM metadata:schema)"):
    print(name)





prods = ["spaghetti", "bolognese sauce", "cheese", "apple"]
for prod in prods:
    client.command(f"CREATE VERTEX Product CONTENT {{'name': '{prod}'}}")

for prod in client.command("SELECT * FROM Product"):
    print(prod.oRecordData)





persons = ["peter", "meredith"]
for pers in persons:
    client.command(f"CREATE VERTEX Person CONTENT {{'nickname': '{pers}'}}")

# Affichage des personnes
for pers in client.command("SELECT * FROM Person"):
    print(pers.oRecordData)





purchases = [
    {'person': 'peter', 'products': ['spaghetti', 'cheese'], 'date': '2016-01-20'},
    {'person': 'meredith', 'products': ['cheese', 'apple', 'bolognese sauce'], 'date': '2016-01-22'},
    {'person': 'peter', 'products': ['spaghetti', 'bolognese sauce'], 'date': '2016-01-27'}
]

for purch in purchases:
    person = purch['person']
    products = purch['products']
    date = purch['date']
    for product in products:
        client.command(f"CREATE EDGE Purchased FROM (SELECT FROM Person WHERE nickname = '{person}') TO (SELECT FROM Product WHERE name = '{product}') CONTENT {{'date': '{date}'}}")

for purchase in client.command("SELECT * FROM Purchased"):
    print(purchase.oRecordData)





query = "SELECT nickname FROM Person WHERE OUT('Purchased') IN (SELECT FROM Product WHERE name = 'bolognese sauce')"
# query = "SELECT FROM Person"
request = client.command(query)

for pers in request:
    print(pers.oRecordData)





# client.command("SELECT EXPAND(OUT('Purchased').name) FROM (SELECT EXPAND(IN('Purchased')) FROM Product WHERE name = 'Laptop') WHERE @class = 'Person' AND OUT('Purchased').name <> 'Laptop'")
query = """
SELECT DISTINCT(name) 
FROM (
  SELECT expand(out('Purchase')) AS product
  FROM Person
  WHERE @rid IN (
    SELECT expand(in('Purchase')) 
    FROM Product 
    WHERE name = 'bolognese sauce'
  )
)
WHERE name <> 'bolognese sauce'
"""
results = client.command(query)

for product in results:
    print(product.oRecordData)







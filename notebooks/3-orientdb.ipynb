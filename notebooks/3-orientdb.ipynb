{
 "cells": [
  {
   "cell_type": "markdown",
   "metadata": {},
   "source": [
    "# OrientDB tutorial"
   ]
  },
  {
   "cell_type": "markdown",
   "metadata": {},
   "source": [
    "## Prerequisites"
   ]
  },
  {
   "cell_type": "markdown",
   "metadata": {},
   "source": [
    "### Documentation\n",
    "\n",
    "You will find all documentation for :\n",
    "* [OrientDB SQL reference](http://www.orientdb.com/docs/last/SQL-Functions.html)\n",
    "* [Orientdb python client](http://orientdb.com/docs/last/PyOrient-Client.html#working-with-the-client)"
   ]
  },
  {
   "cell_type": "markdown",
   "metadata": {},
   "source": [
    "## Import libraries"
   ]
  },
  {
   "cell_type": "code",
   "execution_count": 1,
   "metadata": {},
   "outputs": [],
   "source": [
    "import pyorient"
   ]
  },
  {
   "cell_type": "code",
   "execution_count": 2,
   "metadata": {},
   "outputs": [],
   "source": [
    "ROOT_PASSWORD = \"root\"\n",
    "client = pyorient.OrientDB(\"orientdb\", 2424)\n",
    "session_id = client.connect(\"root\", ROOT_PASSWORD)"
   ]
  },
  {
   "cell_type": "code",
   "execution_count": 3,
   "metadata": {},
   "outputs": [
    {
     "name": "stdout",
     "output_type": "stream",
     "text": [
      "{{'databases': {}}}\n"
     ]
    }
   ],
   "source": [
    "print(client.db_list())"
   ]
  },
  {
   "cell_type": "markdown",
   "metadata": {},
   "source": [
    "## I. Quick start"
   ]
  },
  {
   "cell_type": "markdown",
   "metadata": {},
   "source": [
    "### Creating the database"
   ]
  },
  {
   "cell_type": "markdown",
   "metadata": {},
   "source": [
    "**Q:** Create a database `gods` as a `GRAPH_DATABASE` in `MEMORY_STORAGE_TYPE`. \n",
    "\n",
    "We will use it to store relationships between Greek deities."
   ]
  },
  {
   "cell_type": "code",
   "execution_count": 4,
   "metadata": {},
   "outputs": [],
   "source": [
    "gods = client.db_create(\"gods\", pyorient.DB_TYPE_GRAPH, pyorient.STORAGE_TYPE_MEMORY)"
   ]
  },
  {
   "cell_type": "markdown",
   "metadata": {},
   "source": [
    "**Q:** Connect your pyorient client to the `gods` database."
   ]
  },
  {
   "cell_type": "code",
   "execution_count": 5,
   "metadata": {},
   "outputs": [
    {
     "data": {
      "text/plain": [
       "[<pyorient.otypes.OrientCluster at 0x7f3e388a7fb0>,\n",
       " <pyorient.otypes.OrientCluster at 0x7f3e384f7b90>,\n",
       " <pyorient.otypes.OrientCluster at 0x7f3e3837f7d0>,\n",
       " <pyorient.otypes.OrientCluster at 0x7f3e3837f530>,\n",
       " <pyorient.otypes.OrientCluster at 0x7f3e3849a0c0>,\n",
       " <pyorient.otypes.OrientCluster at 0x7f3e383983b0>,\n",
       " <pyorient.otypes.OrientCluster at 0x7f3e38398440>,\n",
       " <pyorient.otypes.OrientCluster at 0x7f3e38398290>,\n",
       " <pyorient.otypes.OrientCluster at 0x7f3e38398560>,\n",
       " <pyorient.otypes.OrientCluster at 0x7f3e383986b0>,\n",
       " <pyorient.otypes.OrientCluster at 0x7f3e383983e0>,\n",
       " <pyorient.otypes.OrientCluster at 0x7f3e383989b0>,\n",
       " <pyorient.otypes.OrientCluster at 0x7f3e38398a10>,\n",
       " <pyorient.otypes.OrientCluster at 0x7f3e38398a70>,\n",
       " <pyorient.otypes.OrientCluster at 0x7f3e38398ad0>,\n",
       " <pyorient.otypes.OrientCluster at 0x7f3e38398b30>,\n",
       " <pyorient.otypes.OrientCluster at 0x7f3e38398b90>,\n",
       " <pyorient.otypes.OrientCluster at 0x7f3e38398bf0>,\n",
       " <pyorient.otypes.OrientCluster at 0x7f3e38398c50>,\n",
       " <pyorient.otypes.OrientCluster at 0x7f3e38398cb0>,\n",
       " <pyorient.otypes.OrientCluster at 0x7f3e38398d10>,\n",
       " <pyorient.otypes.OrientCluster at 0x7f3e38398d70>,\n",
       " <pyorient.otypes.OrientCluster at 0x7f3e38398dd0>,\n",
       " <pyorient.otypes.OrientCluster at 0x7f3e38398e30>,\n",
       " <pyorient.otypes.OrientCluster at 0x7f3e38398e90>,\n",
       " <pyorient.otypes.OrientCluster at 0x7f3e38398f20>,\n",
       " <pyorient.otypes.OrientCluster at 0x7f3e38398fb0>,\n",
       " <pyorient.otypes.OrientCluster at 0x7f3e38399040>,\n",
       " <pyorient.otypes.OrientCluster at 0x7f3e383990d0>,\n",
       " <pyorient.otypes.OrientCluster at 0x7f3e38399160>,\n",
       " <pyorient.otypes.OrientCluster at 0x7f3e383991f0>,\n",
       " <pyorient.otypes.OrientCluster at 0x7f3e38399280>,\n",
       " <pyorient.otypes.OrientCluster at 0x7f3e38399310>]"
      ]
     },
     "execution_count": 5,
     "metadata": {},
     "output_type": "execute_result"
    }
   ],
   "source": [
    "client.db_open(\"gods\",\"root\", ROOT_PASSWORD)"
   ]
  },
  {
   "cell_type": "markdown",
   "metadata": {},
   "source": [
    "**Q:** You should now be able to launch OrientDB queries through the Python client with the [command()](http://orientdb.com/docs/last/PyOrient-Client-Command.html) function. \n",
    "\n",
    "You should think of OrientDB as a Graph-Document database for the following questions. Each vertex and edge will contain information on it inside a JSON document.\n",
    "\n",
    "Create a new Vertex with content `{name: 'Zeus', symbol: 'thunder'}`. The [CREATE VERTEX : Create a vertex using JSON content](http://orientdb.com/docs/last/SQL-Create-Vertex.html) doc page should help you."
   ]
  },
  {
   "cell_type": "code",
   "execution_count": 6,
   "metadata": {},
   "outputs": [
    {
     "data": {
      "text/plain": [
       "[<pyorient.otypes.OrientRecord at 0x7f3e383995b0>]"
      ]
     },
     "execution_count": 6,
     "metadata": {},
     "output_type": "execute_result"
    }
   ],
   "source": [
    "client.command(\"create vertex content {name: 'Zeus', symbol: 'thunder'}\")"
   ]
  },
  {
   "cell_type": "markdown",
   "metadata": {},
   "source": [
    "You have created a VERTEX in the previous question. The VERTEX is a [class](https://orientdb.com/docs/last/Tutorial-Classes.html) of OrientDB which defines a record that can be linked to others through EDGE instances.\n",
    "\n",
    "You can find all VERTEX created in the database with a SQL command on the `V` table, like `SELECT * FROM V`. \n",
    "\n",
    "**Q:** Print all current vertices in `gods`, it should only have `Zeus` though for now."
   ]
  },
  {
   "cell_type": "code",
   "execution_count": 7,
   "metadata": {},
   "outputs": [
    {
     "name": "stdout",
     "output_type": "stream",
     "text": [
      "{'@V':{'name': 'Zeus', 'symbol': 'thunder'},'version':1,'rid':'#9:0'}\n"
     ]
    }
   ],
   "source": [
    "for elem in client.command(\"SELECT * FROM V\"):\n",
    "    print(elem)"
   ]
  },
  {
   "cell_type": "markdown",
   "metadata": {},
   "source": [
    "**Q:** Create new vertices with content : \n",
    "```\n",
    "{name:Héra, symbol:tiara}\n",
    "{name:Poséidon, symbol:trident}\n",
    "{name:Athena, symbol:helmet}\n",
    "{name:Arès, symbol:weapons} \n",
    "```"
   ]
  },
  {
   "cell_type": "code",
   "execution_count": 8,
   "metadata": {},
   "outputs": [
    {
     "data": {
      "text/plain": [
       "[<pyorient.otypes.OrientRecord at 0x7f3e3839ba70>]"
      ]
     },
     "execution_count": 8,
     "metadata": {},
     "output_type": "execute_result"
    }
   ],
   "source": [
    "client.command(\"create vertex content {name: 'Héra', symbol: 'tiara'}\")\n",
    "client.command(\"create vertex content {name: 'Poséidon', symbol: 'trident'}\")\n",
    "client.command(\"create vertex content {name: 'Athéna', symbol: 'helmet'}\")\n",
    "client.command(\"create vertex content {name: 'Arès', symbol: 'weapons'}\")"
   ]
  },
  {
   "cell_type": "markdown",
   "metadata": {},
   "source": [
    "**Q:** Display all vertices with name = `Arès`"
   ]
  },
  {
   "cell_type": "code",
   "execution_count": 9,
   "metadata": {},
   "outputs": [
    {
     "name": "stdout",
     "output_type": "stream",
     "text": [
      "{'@V':{'name': 'Arès', 'symbol': 'weapons'},'version':1,'rid':'#13:0'}\n"
     ]
    }
   ],
   "source": [
    "for elem in client.command(\"SELECT * FROM V where name='Arès'\"):\n",
    "    print(elem)"
   ]
  },
  {
   "cell_type": "markdown",
   "metadata": {},
   "source": [
    "**Q:** Create an EDGE from `Zeus` to `Poséidon` with the content `{kind: 'sibling'}"
   ]
  },
  {
   "cell_type": "code",
   "execution_count": 10,
   "metadata": {},
   "outputs": [
    {
     "data": {
      "text/plain": [
       "[<pyorient.otypes.OrientRecord at 0x7f3e385b5df0>]"
      ]
     },
     "execution_count": 10,
     "metadata": {},
     "output_type": "execute_result"
    }
   ],
   "source": [
    "client.command(\"CREATE edge FROM (SELECT FROM V where name='Zeus') TO (SELECT FROM V where name='Poséidon') CONTENT {'kind':'sibling'}\")"
   ]
  },
  {
   "cell_type": "markdown",
   "metadata": {},
   "source": [
    "**Q:** Redisplay all vertices, discuss."
   ]
  },
  {
   "cell_type": "code",
   "execution_count": 11,
   "metadata": {},
   "outputs": [
    {
     "name": "stdout",
     "output_type": "stream",
     "text": [
      "{'@V':{'name': 'Zeus', 'symbol': 'thunder', 'out_': <pyorient.otypes.OrientBinaryObject object at 0x7f3e383b0530>},'version':2,'rid':'#9:0'}\n",
      "{'@V':{'name': 'Héra', 'symbol': 'tiara'},'version':1,'rid':'#10:0'}\n",
      "{'@V':{'name': 'Poséidon', 'symbol': 'trident', 'in_': <pyorient.otypes.OrientBinaryObject object at 0x7f3e383b0920>},'version':2,'rid':'#11:0'}\n",
      "{'@V':{'name': 'Athéna', 'symbol': 'helmet'},'version':1,'rid':'#12:0'}\n",
      "{'@V':{'name': 'Arès', 'symbol': 'weapons'},'version':1,'rid':'#13:0'}\n"
     ]
    }
   ],
   "source": [
    "for elem in client.command(\"SELECT * FROM V\"):\n",
    "    print(elem)"
   ]
  },
  {
   "cell_type": "markdown",
   "metadata": {},
   "source": [
    "**Q:** Display all edges. They are contained in the class `E`"
   ]
  },
  {
   "cell_type": "code",
   "execution_count": 12,
   "metadata": {},
   "outputs": [
    {
     "name": "stdout",
     "output_type": "stream",
     "text": [
      "{'kind': 'sibling', 'out': <pyorient.otypes.OrientRecordLink object at 0x7f3e383b07a0>, 'in': <pyorient.otypes.OrientRecordLink object at 0x7f3e383b0890>}\n"
     ]
    }
   ],
   "source": [
    "for elem in client.command(\"SELECT * FROM E\"): # expand(out)\n",
    "    print(elem.oRecordData)"
   ]
  },
  {
   "cell_type": "markdown",
   "metadata": {},
   "source": [
    "Two fields on vertices have appeared, containing the outgoing (out_) and incoming (in_) links.\n",
    "\n",
    "At the edge level, two fields point to the original (out) and destination (in) vertices.\n",
    "\n",
    "**Q:** Lets create some more edges :\n",
    "\n",
    "* Zeus > Héra (sibling)\n",
    "* Zeus > Arès (father)\n",
    "* Zeus > Athena (father)\n",
    "* Héra > Arès (mother)\n",
    "* Héra > Zeus (sibling)\n",
    "* Poséidon > Zeus (sibling)\n",
    "\n",
    "_Hint 1 :_ check [the CREATE EDGE doc page](http://orientdb.com/docs/last/SQL-Create-Edge.html) to find an example for creating edges on vertices using subqueries so you can run queries to fetch the vertices before creating an edge in between.\n",
    "\n",
    "_Hint 2 :_ after you have found the command to create edges between vertices with sub-queries, you should be well-versed enough in Python to create a list of all edges in the question, and loop the command on each element of the list to create all edges in one go =)"
   ]
  },
  {
   "cell_type": "code",
   "execution_count": 13,
   "metadata": {},
   "outputs": [],
   "source": [
    "froms = [\"Zeus\", \"Zeus\", \"Zeus\", \"Héra\", \"Héra\", \"Poséidon\"]\n",
    "tos = [\"Héra\", \"Arès\", \"Athéna\", \"Arès\", \"Zeus\", \"Zeus\"]\n",
    "kinds = [\"sibling\", \"father\", \"father\", \"mother\", \"sibling\", \"sibling\"]\n",
    "for fromg, tog, kindg in zip(froms, tos, kinds):\n",
    "    client.command(f\"CREATE edge FROM (SELECT FROM V where name='{fromg}') TO (SELECT FROM V where name='{tog}') CONTENT {{'kind':'{kindg}'}}\")"
   ]
  },
  {
   "cell_type": "markdown",
   "metadata": {},
   "source": [
    "### Looking for data"
   ]
  },
  {
   "cell_type": "markdown",
   "metadata": {},
   "source": [
    "**Q:** Using [out()](http://orientdb.com/docs/last/Tutorial-Working-with-graphs.html#querying-graphs) function, display all vertices connected and outgoing from Zeus.\n",
    "\n",
    "You should use the EXPAND() special function to transform the vertex collection in the result-set by expanding it, making the results more readable."
   ]
  },
  {
   "cell_type": "code",
   "execution_count": 14,
   "metadata": {},
   "outputs": [
    {
     "name": "stdout",
     "output_type": "stream",
     "text": [
      "{'@V':{'name': 'Poséidon', 'symbol': 'trident', 'in_': <pyorient.otypes.OrientBinaryObject object at 0x7f3e383997f0>, 'out_': <pyorient.otypes.OrientBinaryObject object at 0x7f3e383994f0>},'version':3,'rid':'#11:0'}\n",
      "{'@V':{'out_': <pyorient.otypes.OrientBinaryObject object at 0x7f3e3839be00>, 'name': 'Héra', 'symbol': 'tiara', 'in_': <pyorient.otypes.OrientBinaryObject object at 0x7f3e3839bd40>},'version':4,'rid':'#10:0'}\n",
      "{'@V':{'in_': <pyorient.otypes.OrientBinaryObject object at 0x7f3e3839be30>, 'name': 'Arès', 'symbol': 'weapons'},'version':3,'rid':'#13:0'}\n",
      "{'@V':{'name': 'Athéna', 'symbol': 'helmet', 'in_': <pyorient.otypes.OrientBinaryObject object at 0x7f3e383b07d0>},'version':2,'rid':'#12:0'}\n"
     ]
    }
   ],
   "source": [
    "for elem in client.command(\"SELECT expand(out()) FROM V where name='Zeus'\"):\n",
    "    print(elem)"
   ]
  },
  {
   "cell_type": "markdown",
   "metadata": {},
   "source": [
    "**Q:** Display all vertices which got a father (the vertices which are the destination of an arc whose kind attribute is father).\n",
    "\n",
    "_Hint: You can notice that we use the field `in` the arc, and not the function `in()` which applies to vertices._"
   ]
  },
  {
   "cell_type": "code",
   "execution_count": 15,
   "metadata": {},
   "outputs": [
    {
     "name": "stdout",
     "output_type": "stream",
     "text": [
      "{'@V':{'in_': <pyorient.otypes.OrientBinaryObject object at 0x7f3e38398530>, 'name': 'Arès', 'symbol': 'weapons'},'version':3,'rid':'#13:0'}\n",
      "{'@V':{'name': 'Athéna', 'symbol': 'helmet', 'in_': <pyorient.otypes.OrientBinaryObject object at 0x7f3e38499cd0>},'version':2,'rid':'#12:0'}\n"
     ]
    }
   ],
   "source": [
    "for elem in client.command(\"SELECT expand(in) FROM E where kind='father'\"):\n",
    "    print(elem)"
   ]
  },
  {
   "cell_type": "markdown",
   "metadata": {},
   "source": [
    "**Q:** As in SQL, the operator `in` used in a clause `where` allows to restrict the possible values with an embedded query _(where ... in (select ...))_. \n",
    "\n",
    "Display the mothers, by displaying the vertices where an outgoing arc is part of the arcs where kind is a mother."
   ]
  },
  {
   "cell_type": "code",
   "execution_count": 16,
   "metadata": {},
   "outputs": [
    {
     "name": "stdout",
     "output_type": "stream",
     "text": [
      "{'@V':{'name': 'Héra', 'out_': <pyorient.otypes.OrientBinaryObject object at 0x7f3e3837f980>, 'symbol': 'tiara', 'in_': <pyorient.otypes.OrientBinaryObject object at 0x7f3e387893a0>},'version':4,'rid':'#10:0'}\n"
     ]
    }
   ],
   "source": [
    "for elem in client.command(\"SELECT * FROM V WHERE name in (SELECT name from (SELECT expand(out) FROM E WHERE kind='mother'))\"):\n",
    "    print(elem)"
   ]
  },
  {
   "cell_type": "markdown",
   "metadata": {},
   "source": [
    "**Q:** Display the brothers and sisters of Zeus (the destination summits of an arc whose kind is sibling and whose original summit is Zeus)."
   ]
  },
  {
   "cell_type": "code",
   "execution_count": 17,
   "metadata": {},
   "outputs": [
    {
     "name": "stdout",
     "output_type": "stream",
     "text": [
      "{'@V':{'name': 'Héra', 'out_': <pyorient.otypes.OrientBinaryObject object at 0x7f3e383997f0>, 'symbol': 'tiara', 'in_': <pyorient.otypes.OrientBinaryObject object at 0x7f3e38523d10>},'version':4,'rid':'#10:0'}\n",
      "{'@V':{'name': 'Poséidon', 'symbol': 'trident', 'in_': <pyorient.otypes.OrientBinaryObject object at 0x7f3e383b0d70>, 'out_': <pyorient.otypes.OrientBinaryObject object at 0x7f3e383b0f50>},'version':3,'rid':'#11:0'}\n"
     ]
    }
   ],
   "source": [
    "for elem in client.command(\"SELECT * FROM (SELECT * FROM V WHERE name in (SELECT name from (SELECT expand(out) FROM E WHERE kind='sibling'))) WHERE name NOT IN 'Zeus'\"):\n",
    "    print(elem)"
   ]
  },
  {
   "cell_type": "markdown",
   "metadata": {},
   "source": [
    "## Modeling a Product Recommendation System"
   ]
  },
  {
   "cell_type": "markdown",
   "metadata": {},
   "source": [
    "You are currently modeling the data of a product recommendation system with OrientDB.\n",
    "\n",
    "The main purpose of such a system is to answer the question \"which products were purchased by their people who purchased product X? »\n",
    "\n",
    "Purchased products have only one name field. They are purchased by people who have a nickname.\n",
    "\n",
    "When a person buys a product, the date of purchase is stored. \n",
    "\n",
    "Instead of working with \"anonymous\" vertices and arcs, you will use classes. The `create class` command allows you to create custom classes.\n",
    "\n",
    "The vertex classes must extend V, the arc classes must extend E."
   ]
  },
  {
   "cell_type": "markdown",
   "metadata": {},
   "source": [
    "**Q:** Create an `eCommerce` database, and the necessary classes to model the system.\n",
    "\n",
    "PS : you can view all classes in the database with :\n",
    "\n",
    "```python\n",
    "for name in client.command(\"SELECT name FROM (SELECT expand(classes) FROM metadata:schema)\"):\n",
    "    print(name)\n",
    "```"
   ]
  },
  {
   "cell_type": "code",
   "execution_count": 18,
   "metadata": {},
   "outputs": [
    {
     "data": {
      "text/plain": [
       "[<pyorient.otypes.OrientCluster at 0x7f3e387eff80>,\n",
       " <pyorient.otypes.OrientCluster at 0x7f3e3876bad0>,\n",
       " <pyorient.otypes.OrientCluster at 0x7f3e3837f980>,\n",
       " <pyorient.otypes.OrientCluster at 0x7f3e3837fd40>,\n",
       " <pyorient.otypes.OrientCluster at 0x7f3e3839b860>,\n",
       " <pyorient.otypes.OrientCluster at 0x7f3e383995e0>,\n",
       " <pyorient.otypes.OrientCluster at 0x7f3e38399400>,\n",
       " <pyorient.otypes.OrientCluster at 0x7f3e38499b20>,\n",
       " <pyorient.otypes.OrientCluster at 0x7f3e383b09e0>,\n",
       " <pyorient.otypes.OrientCluster at 0x7f3e383b0830>,\n",
       " <pyorient.otypes.OrientCluster at 0x7f3e383b08c0>,\n",
       " <pyorient.otypes.OrientCluster at 0x7f3e383b1670>,\n",
       " <pyorient.otypes.OrientCluster at 0x7f3e383b0170>,\n",
       " <pyorient.otypes.OrientCluster at 0x7f3e383b0620>,\n",
       " <pyorient.otypes.OrientCluster at 0x7f3e383b1700>,\n",
       " <pyorient.otypes.OrientCluster at 0x7f3e383b0a70>,\n",
       " <pyorient.otypes.OrientCluster at 0x7f3e383b1430>,\n",
       " <pyorient.otypes.OrientCluster at 0x7f3e383b1370>,\n",
       " <pyorient.otypes.OrientCluster at 0x7f3e383b0e00>,\n",
       " <pyorient.otypes.OrientCluster at 0x7f3e383b1280>,\n",
       " <pyorient.otypes.OrientCluster at 0x7f3e383b0f80>,\n",
       " <pyorient.otypes.OrientCluster at 0x7f3e383b10d0>,\n",
       " <pyorient.otypes.OrientCluster at 0x7f3e383b1610>,\n",
       " <pyorient.otypes.OrientCluster at 0x7f3e383b0c80>,\n",
       " <pyorient.otypes.OrientCluster at 0x7f3e383b0cb0>,\n",
       " <pyorient.otypes.OrientCluster at 0x7f3e383b0230>,\n",
       " <pyorient.otypes.OrientCluster at 0x7f3e383b15e0>,\n",
       " <pyorient.otypes.OrientCluster at 0x7f3e383b0260>,\n",
       " <pyorient.otypes.OrientCluster at 0x7f3e383b14c0>,\n",
       " <pyorient.otypes.OrientCluster at 0x7f3e383b1130>,\n",
       " <pyorient.otypes.OrientCluster at 0x7f3e383b1160>,\n",
       " <pyorient.otypes.OrientCluster at 0x7f3e383b1340>,\n",
       " <pyorient.otypes.OrientCluster at 0x7f3e383b17c0>]"
      ]
     },
     "execution_count": 18,
     "metadata": {},
     "output_type": "execute_result"
    }
   ],
   "source": [
    "client.db_create(\"eCommerce\", pyorient.DB_TYPE_GRAPH, pyorient.STORAGE_TYPE_MEMORY)\n",
    "client.db_open(\"eCommerce\",\"root\", ROOT_PASSWORD)"
   ]
  },
  {
   "cell_type": "code",
   "execution_count": 19,
   "metadata": {},
   "outputs": [
    {
     "data": {
      "text/plain": [
       "[1]"
      ]
     },
     "execution_count": 19,
     "metadata": {},
     "output_type": "execute_result"
    }
   ],
   "source": [
    "# Vertices\n",
    "client.command(\"CREATE CLASS Product EXTENDS V\")\n",
    "client.command(\"CREATE PROPERTY Product.name STRING\")\n",
    "client.command(\"CREATE INDEX Product.name ON Product (name) UNIQUE\")\n",
    "client.command(\"CREATE CLASS Person EXTENDS V\")\n",
    "client.command(\"CREATE PROPERTY Person.nickname STRING\")\n",
    "client.command(\"CREATE INDEX Person.nickname ON Person (nickname) UNIQUE\")\n",
    "\n",
    "# Edges\n",
    "client.command(\"CREATE CLASS Purchased EXTENDS E\")\n",
    "client.command(\"CREATE PROPERTY Purchased.date STRING\")"
   ]
  },
  {
   "cell_type": "code",
   "execution_count": 20,
   "metadata": {},
   "outputs": [
    {
     "name": "stdout",
     "output_type": "stream",
     "text": [
      "{{'name': 'Product'},'version':0,'rid':'#-2:0'}\n",
      "{{'name': 'V'},'version':0,'rid':'#-2:1'}\n",
      "{{'name': 'Purchased'},'version':0,'rid':'#-2:2'}\n",
      "{{'name': 'E'},'version':0,'rid':'#-2:3'}\n",
      "{{'name': 'OIdentity'},'version':0,'rid':'#-2:4'}\n",
      "{{'name': 'OFunction'},'version':0,'rid':'#-2:5'}\n",
      "{{'name': 'OUser'},'version':0,'rid':'#-2:6'}\n",
      "{{'name': 'ORestricted'},'version':0,'rid':'#-2:7'}\n",
      "{{'name': 'Person'},'version':0,'rid':'#-2:8'}\n",
      "{{'name': 'OSchedule'},'version':0,'rid':'#-2:9'}\n",
      "{{'name': 'OTriggered'},'version':0,'rid':'#-2:10'}\n",
      "{{'name': 'ORole'},'version':0,'rid':'#-2:11'}\n",
      "{{'name': 'OSequence'},'version':0,'rid':'#-2:12'}\n"
     ]
    }
   ],
   "source": [
    "for name in client.command(\"SELECT name FROM (SELECT expand(classes) FROM metadata:schema)\"):\n",
    "    print(name)"
   ]
  },
  {
   "cell_type": "markdown",
   "metadata": {},
   "source": [
    "**Q:** Create the following products: `spaghetti`, `bolognese sauce`, `cheese`, `apple`."
   ]
  },
  {
   "cell_type": "code",
   "execution_count": 21,
   "metadata": {},
   "outputs": [
    {
     "name": "stdout",
     "output_type": "stream",
     "text": [
      "{'name': 'spaghetti'}\n",
      "{'name': 'bolognese sauce'}\n",
      "{'name': 'cheese'}\n",
      "{'name': 'apple'}\n"
     ]
    }
   ],
   "source": [
    "prods = [\"spaghetti\", \"bolognese sauce\", \"cheese\", \"apple\"]\n",
    "for prod in prods:\n",
    "    client.command(f\"CREATE VERTEX Product CONTENT {{'name': '{prod}'}}\")\n",
    "\n",
    "for prod in client.command(\"SELECT * FROM Product\"):\n",
    "    print(prod.oRecordData)"
   ]
  },
  {
   "cell_type": "markdown",
   "metadata": {},
   "source": [
    "**Q:** Create the following people: `peter`, `meredith`."
   ]
  },
  {
   "cell_type": "code",
   "execution_count": 22,
   "metadata": {},
   "outputs": [
    {
     "name": "stdout",
     "output_type": "stream",
     "text": [
      "{'nickname': 'peter'}\n",
      "{'nickname': 'meredith'}\n"
     ]
    }
   ],
   "source": [
    "persons = [\"peter\", \"meredith\"]\n",
    "for pers in persons:\n",
    "    client.command(f\"CREATE VERTEX Person CONTENT {{'nickname': '{pers}'}}\")\n",
    "\n",
    "# Affichage des personnes\n",
    "for pers in client.command(\"SELECT * FROM Person\"):\n",
    "    print(pers.oRecordData)"
   ]
  },
  {
   "cell_type": "markdown",
   "metadata": {},
   "source": [
    "**Q:** Create the following purchases: \n",
    "- peter > spaghetti + cheese on 20/01/2016 \n",
    "- meredith > cheese + apple + bolognese sauce on 22/01/2016\n",
    "- peter > spaghetti + bolognese sauce on 27/01/2016\n"
   ]
  },
  {
   "cell_type": "code",
   "execution_count": 23,
   "metadata": {},
   "outputs": [
    {
     "name": "stdout",
     "output_type": "stream",
     "text": [
      "{'date': '2016-01-20', 'out': <pyorient.otypes.OrientRecordLink object at 0x7f3e3839bd40>, 'in': <pyorient.otypes.OrientRecordLink object at 0x7f3e383b2270>}\n",
      "{'date': '2016-01-20', 'out': <pyorient.otypes.OrientRecordLink object at 0x7f3e383b2240>, 'in': <pyorient.otypes.OrientRecordLink object at 0x7f3e383b2540>}\n",
      "{'date': '2016-01-22', 'out': <pyorient.otypes.OrientRecordLink object at 0x7f3e383b1c70>, 'in': <pyorient.otypes.OrientRecordLink object at 0x7f3e383b28a0>}\n",
      "{'date': '2016-01-22', 'out': <pyorient.otypes.OrientRecordLink object at 0x7f3e383b2ab0>, 'in': <pyorient.otypes.OrientRecordLink object at 0x7f3e383b2ba0>}\n",
      "{'date': '2016-01-22', 'out': <pyorient.otypes.OrientRecordLink object at 0x7f3e383b2de0>, 'in': <pyorient.otypes.OrientRecordLink object at 0x7f3e383b2ed0>}\n",
      "{'date': '2016-01-27', 'out': <pyorient.otypes.OrientRecordLink object at 0x7f3e383b3080>, 'in': <pyorient.otypes.OrientRecordLink object at 0x7f3e383b3170>}\n",
      "{'date': '2016-01-27', 'out': <pyorient.otypes.OrientRecordLink object at 0x7f3e383b3320>, 'in': <pyorient.otypes.OrientRecordLink object at 0x7f3e383b3410>}\n"
     ]
    }
   ],
   "source": [
    "purchases = [\n",
    "    {'person': 'peter', 'products': ['spaghetti', 'cheese'], 'date': '2016-01-20'},\n",
    "    {'person': 'meredith', 'products': ['cheese', 'apple', 'bolognese sauce'], 'date': '2016-01-22'},\n",
    "    {'person': 'peter', 'products': ['spaghetti', 'bolognese sauce'], 'date': '2016-01-27'}\n",
    "]\n",
    "\n",
    "for purch in purchases:\n",
    "    person = purch['person']\n",
    "    products = purch['products']\n",
    "    date = purch['date']\n",
    "    for product in products:\n",
    "        client.command(f\"CREATE EDGE Purchased FROM (SELECT FROM Person WHERE nickname = '{person}') TO (SELECT FROM Product WHERE name = '{product}') CONTENT {{'date': '{date}'}}\")\n",
    "\n",
    "for purchase in client.command(\"SELECT * FROM Purchased\"):\n",
    "    print(purchase.oRecordData)"
   ]
  },
  {
   "cell_type": "markdown",
   "metadata": {},
   "source": [
    "**Q:** Who bought Bolognese sauce?"
   ]
  },
  {
   "cell_type": "code",
   "execution_count": null,
   "metadata": {},
   "outputs": [
    {
     "name": "stdout",
     "output_type": "stream",
     "text": [
      "{'nickname': 'peter'}\n",
      "{'nickname': 'meredith'}\n"
     ]
    }
   ],
   "source": [
    "query = \"SELECT nickname FROM Person WHERE OUT('Purchased') IN (SELECT FROM Product WHERE name = 'bolognese sauce')\"\n",
    "request = client.command(query)\n",
    "\n",
    "for pers in request:\n",
    "    print(pers.oRecordData)"
   ]
  },
  {
   "cell_type": "markdown",
   "metadata": {},
   "source": [
    "**Q:** It is possible to link the `out` and `in` navigation functions. What products are purchased with Bolognese sauce? "
   ]
  },
  {
   "cell_type": "code",
   "execution_count": null,
   "metadata": {},
   "outputs": [
    {
     "name": "stdout",
     "output_type": "stream",
     "text": [
      "{'DISTINCT': 'spaghetti'}\n",
      "{'DISTINCT': 'cheese'}\n",
      "{'DISTINCT': 'apple'}\n"
     ]
    }
   ],
   "source": [
    "query = \"\"\"\n",
    "SELECT DISTINCT(name) \n",
    "FROM (\n",
    "  SELECT expand(out('Purchased')) AS product\n",
    "  FROM Person\n",
    "  WHERE @rid IN (\n",
    "    SELECT expand(in('Purchased')) \n",
    "    FROM Product \n",
    "    WHERE name = 'bolognese sauce'\n",
    "  )\n",
    ")\n",
    "WHERE name <> 'bolognese sauce'\n",
    "\"\"\"\n",
    "results = client.command(query)\n",
    "\n",
    "for product in results:\n",
    "    print(product.oRecordData)"
   ]
  },
  {
   "cell_type": "markdown",
   "metadata": {},
   "source": [
    "## Postquisites"
   ]
  },
  {
   "cell_type": "markdown",
   "metadata": {},
   "source": [
    "Since we create databases in memory, they get destroyed on server shutdown."
   ]
  }
 ],
 "metadata": {
  "kernelspec": {
   "display_name": "Python 3 (ipykernel)",
   "language": "python",
   "name": "python3"
  },
  "language_info": {
   "codemirror_mode": {
    "name": "ipython",
    "version": 3
   },
   "file_extension": ".py",
   "mimetype": "text/x-python",
   "name": "python",
   "nbconvert_exporter": "python",
   "pygments_lexer": "ipython3",
   "version": "3.12.2"
  }
 },
 "nbformat": 4,
 "nbformat_minor": 4
}
